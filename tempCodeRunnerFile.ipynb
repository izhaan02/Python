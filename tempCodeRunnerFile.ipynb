# Explode the genre list so each row has one genre
df_genre_country = df.explode('genre_list')

# Group by country and count unique genres
genre_diversity = df_genre_country.groupby('country')['genre_list'].nunique().sort_values(ascending=False).head(10)

# Plotting
plt.figure(figsize=(10, 6))
sns.barplot(x=genre_diversity.values, y=genre_diversity.index, palette='plasma', )
plt.title('Top 10 Countries by Genre Diversity on Netflix')
plt.xlabel('Number of Unique Genres')
plt.ylabel('Country')
plt.tight_layout()
plt.show()
